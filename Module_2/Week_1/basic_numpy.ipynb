{
  "cells": [
    {
      "cell_type": "markdown",
      "metadata": {
        "id": "Cl42lWxjmC7d"
      },
      "source": [
        "## Basic numpy"
      ]
    },
    {
      "cell_type": "code",
      "execution_count": 1,
      "metadata": {
        "id": "Ii3Cf5ehmapE"
      },
      "outputs": [],
      "source": [
        "import numpy as np"
      ]
    },
    {
      "cell_type": "markdown",
      "metadata": {
        "id": "eUvIOICUrGJP"
      },
      "source": [
        "### 1. 1D-array from 0 to 9"
      ]
    },
    {
      "cell_type": "code",
      "execution_count": 2,
      "metadata": {
        "colab": {
          "base_uri": "https://localhost:8080/"
        },
        "id": "GwOqPOHclxSJ",
        "outputId": "45d75571-4ea9-432a-9af8-7598b97c4790"
      },
      "outputs": [
        {
          "name": "stdout",
          "output_type": "stream",
          "text": [
            "[0 1 2 3 4 5 6 7 8 9]\n"
          ]
        }
      ],
      "source": [
        "arr = np.arange(0, 10, 1)\n",
        "print(arr)"
      ]
    },
    {
      "cell_type": "markdown",
      "metadata": {
        "id": "dWaWKGQTrLQm"
      },
      "source": [
        "### 2. Boolean array 3x3 with all values are True"
      ]
    },
    {
      "cell_type": "code",
      "execution_count": 5,
      "metadata": {
        "colab": {
          "base_uri": "https://localhost:8080/"
        },
        "id": "w5y0lEYHml5u",
        "outputId": "f450da72-05f4-4739-b164-d51bd8616c93"
      },
      "outputs": [
        {
          "name": "stdout",
          "output_type": "stream",
          "text": [
            "Arr1: [[ True  True  True]\n",
            " [ True  True  True]\n",
            " [ True  True  True]] \n",
            "\n",
            "Arr2: [[ True  True  True]\n",
            " [ True  True  True]\n",
            " [ True  True  True]] \n",
            "\n",
            "Arr3: [[ True  True  True]\n",
            " [ True  True  True]\n",
            " [ True  True  True]] \n",
            "\n"
          ]
        }
      ],
      "source": [
        "arr1 = np.ones((3, 3)) > 0\n",
        "arr2 = np.ones((3, 3), dtype=bool)\n",
        "arr3 = np.full((3, 3), fill_value=True, dtype=bool)\n",
        "print(f\"Arr1: {arr1} \\n\")\n",
        "print(f\"Arr2: {arr2} \\n\")\n",
        "print(f\"Arr3: {arr3} \\n\")"
      ]
    },
    {
      "cell_type": "markdown",
      "metadata": {
        "id": "bX52ObdqrPga"
      },
      "source": [
        "### 3. Show the result"
      ]
    },
    {
      "cell_type": "code",
      "execution_count": 7,
      "metadata": {
        "colab": {
          "base_uri": "https://localhost:8080/"
        },
        "id": "sjn1EOGsmzgh",
        "outputId": "4bdc95da-eb4f-4c92-8006-99a31b56e489"
      },
      "outputs": [
        {
          "name": "stdout",
          "output_type": "stream",
          "text": [
            "[1 3 5 7 9]\n"
          ]
        }
      ],
      "source": [
        "arr = np. arange(0, 10)\n",
        "print(arr[arr%2==1])"
      ]
    },
    {
      "cell_type": "markdown",
      "metadata": {
        "id": "Q8NSqWK_rTxf"
      },
      "source": [
        "### 4. Show the result"
      ]
    },
    {
      "cell_type": "code",
      "execution_count": 8,
      "metadata": {
        "colab": {
          "base_uri": "https://localhost:8080/"
        },
        "id": "Nn4La4iOnY0_",
        "outputId": "5b3a3d43-b355-437d-91d0-6f4054ed499e"
      },
      "outputs": [
        {
          "name": "stdout",
          "output_type": "stream",
          "text": [
            "[ 0 -1  2 -1  4 -1  6 -1  8 -1]\n"
          ]
        }
      ],
      "source": [
        "arr = np.arange(0, 10)\n",
        "arr[arr%2==1] = -1\n",
        "print(arr)"
      ]
    },
    {
      "cell_type": "markdown",
      "metadata": {
        "id": "Mhye9GDtrW9v"
      },
      "source": [
        "### 5. Show the result"
      ]
    },
    {
      "cell_type": "code",
      "execution_count": 9,
      "metadata": {
        "colab": {
          "base_uri": "https://localhost:8080/"
        },
        "id": "BQ1MCCF_nsqY",
        "outputId": "41e4ec40-68ff-4333-dace-c7b957c1ba43"
      },
      "outputs": [
        {
          "name": "stdout",
          "output_type": "stream",
          "text": [
            "[[0 1 2 3 4]\n",
            " [5 6 7 8 9]]\n"
          ]
        }
      ],
      "source": [
        "arr = np.arange(10)\n",
        "arr_2d = arr.reshape(2, -1)\n",
        "print(arr_2d)"
      ]
    },
    {
      "cell_type": "markdown",
      "metadata": {
        "id": "DJQ63FG1rZ3i"
      },
      "source": [
        "### 6. Show the result"
      ]
    },
    {
      "cell_type": "code",
      "execution_count": 10,
      "metadata": {
        "colab": {
          "base_uri": "https://localhost:8080/"
        },
        "id": "vuZ9arLpn8vX",
        "outputId": "d746d276-9fc0-4ff2-afda-bee5c1cfdcbf"
      },
      "outputs": [
        {
          "name": "stdout",
          "output_type": "stream",
          "text": [
            "Result: \n",
            " [[0 1 2 3 4]\n",
            " [5 6 7 8 9]\n",
            " [1 1 1 1 1]\n",
            " [1 1 1 1 1]]\n"
          ]
        }
      ],
      "source": [
        "arr1 = np.arange(10).reshape(2, -1)\n",
        "arr2 = np.repeat(1, 10).reshape(2, -1)\n",
        "c = np.concatenate([arr1, arr2], axis=0)\n",
        "print(\"Result: \\n\", c)"
      ]
    },
    {
      "cell_type": "markdown",
      "metadata": {
        "id": "Zvike0PVrbv6"
      },
      "source": [
        "### 7. Show the result"
      ]
    },
    {
      "cell_type": "code",
      "execution_count": 11,
      "metadata": {
        "colab": {
          "base_uri": "https://localhost:8080/"
        },
        "id": "2JxmWq4UoWM5",
        "outputId": "85581020-4db2-4b44-e9ad-80ee22fe79ba"
      },
      "outputs": [
        {
          "name": "stdout",
          "output_type": "stream",
          "text": [
            "C =  [[0 1 2 3 4 1 1 1 1 1]\n",
            " [5 6 7 8 9 1 1 1 1 1]]\n"
          ]
        }
      ],
      "source": [
        "arr1 = np.arange(10).reshape(2 , -1)\n",
        "arr2 = np.repeat(1 ,10).reshape(2 , -1)\n",
        "c = np.concatenate([arr1, arr2] , axis =1)\n",
        "print(\"C = \", c)"
      ]
    },
    {
      "cell_type": "markdown",
      "metadata": {
        "id": "cb4LbuSxrdeN"
      },
      "source": [
        "### 8. Show the result"
      ]
    },
    {
      "cell_type": "code",
      "execution_count": 12,
      "metadata": {
        "colab": {
          "base_uri": "https://localhost:8080/"
        },
        "id": "LVro_HWOonzx",
        "outputId": "89aad7e3-a2d0-4ad0-c666-ba6c2c9bc309"
      },
      "outputs": [
        {
          "name": "stdout",
          "output_type": "stream",
          "text": [
            "[1 1 1 2 2 2 3 3 3]\n",
            "[1 2 3 1 2 3 1 2 3]\n"
          ]
        }
      ],
      "source": [
        "arr = np.array([1, 2, 3])\n",
        "print(np.repeat(arr, 3))\n",
        "print(np.tile(arr, 3))"
      ]
    },
    {
      "cell_type": "markdown",
      "metadata": {
        "id": "CIxHveG-rfSo"
      },
      "source": [
        "### 9. Show the result"
      ]
    },
    {
      "cell_type": "code",
      "execution_count": 13,
      "metadata": {
        "colab": {
          "base_uri": "https://localhost:8080/"
        },
        "id": "sIZNq3FtpE7y",
        "outputId": "3242cefc-5a69-4679-868e-9aecda01e28e"
      },
      "outputs": [
        {
          "name": "stdout",
          "output_type": "stream",
          "text": [
            "result [ 6  9 10]\n"
          ]
        }
      ],
      "source": [
        "a = np.array([2, 6, 1, 9, 10, 3, 27])\n",
        "index = np.where((a>=5)&(a<=10))\n",
        "print(\"result\", a[index])"
      ]
    },
    {
      "cell_type": "markdown",
      "metadata": {
        "id": "0B0sf9b2rh3j"
      },
      "source": [
        "### 10. Show the result"
      ]
    },
    {
      "cell_type": "code",
      "execution_count": 14,
      "metadata": {
        "colab": {
          "base_uri": "https://localhost:8080/"
        },
        "id": "Kk-xMWhkpVUk",
        "outputId": "e01bce6c-7253-472b-ad5a-4f8c437ff2ff"
      },
      "outputs": [
        {
          "name": "stdout",
          "output_type": "stream",
          "text": [
            "[6. 7. 9. 8. 9. 7. 5.]\n"
          ]
        }
      ],
      "source": [
        "def max_function(x, y):\n",
        "    if x >= y:\n",
        "        return x\n",
        "    else:\n",
        "        return y\n",
        "\n",
        "a = np.array([5, 7, 9, 8, 6, 4, 5])\n",
        "b = np.array([6, 3, 4, 8, 9, 7, 1])\n",
        "\n",
        "pair_max = np.vectorize(max_function, otypes=[float])\n",
        "print(pair_max(a, b))"
      ]
    },
    {
      "cell_type": "markdown",
      "metadata": {
        "id": "8dudYdjVrj_L"
      },
      "source": [
        "### 11. Show the result"
      ]
    },
    {
      "cell_type": "code",
      "execution_count": 15,
      "metadata": {
        "colab": {
          "base_uri": "https://localhost:8080/"
        },
        "id": "kGbfy86lp_44",
        "outputId": "0fd0e26b-d35b-4145-aece-446c9a7290e9"
      },
      "outputs": [
        {
          "name": "stdout",
          "output_type": "stream",
          "text": [
            "Result [6 7 9 8 9 7 5]\n"
          ]
        }
      ],
      "source": [
        "a = np.array([5, 7, 9, 8, 6, 4, 5])\n",
        "b = np.array([6, 3, 4, 8, 9, 7, 1])\n",
        "\n",
        "print(\"Result\", np.where(a<b, b, a))"
      ]
    }
  ],
  "metadata": {
    "colab": {
      "provenance": []
    },
    "kernelspec": {
      "display_name": "Python 3",
      "name": "python3"
    },
    "language_info": {
      "name": "python"
    }
  },
  "nbformat": 4,
  "nbformat_minor": 0
}
