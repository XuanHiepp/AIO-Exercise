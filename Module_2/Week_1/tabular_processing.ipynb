{
  "cells": [
    {
      "cell_type": "code",
      "execution_count": 16,
      "metadata": {
        "id": "cpSdRkiVvz7W"
      },
      "outputs": [],
      "source": [
        "# Add some libraries\n",
        "import pandas as pd\n",
        "import numpy as np"
      ]
    },
    {
      "cell_type": "code",
      "execution_count": 2,
      "metadata": {
        "colab": {
          "base_uri": "https://localhost:8080/"
        },
        "id": "HtZf8nuMv65D",
        "outputId": "1bb70bcd-e6ee-4045-f2b9-443104d815c8"
      },
      "outputs": [
        {
          "name": "stdout",
          "output_type": "stream",
          "text": [
            "Downloading...\n",
            "From: https://drive.google.com/uc?id=1iA0WmVfW88HyJvTBSQDI5vesf-pgKabq\n",
            "To: /content/advertising.csv\n",
            "\r  0% 0.00/4.06k [00:00<?, ?B/s]\r100% 4.06k/4.06k [00:00<00:00, 12.7MB/s]\n"
          ]
        }
      ],
      "source": [
        "# Download data\n",
        "!gdown 1iA0WmVfW88HyJvTBSQDI5vesf-pgKabq"
      ]
    },
    {
      "cell_type": "code",
      "execution_count": 9,
      "metadata": {
        "id": "ebABM-fEwVKR"
      },
      "outputs": [],
      "source": [
        "# Read data\n",
        "df = pd.read_csv(\"/content/advertising.csv\")\n",
        "data = df.to_numpy()"
      ]
    },
    {
      "cell_type": "markdown",
      "metadata": {
        "id": "jIWrBHtPwF9K"
      },
      "source": [
        "### 1. Get max value and max index on Sales"
      ]
    },
    {
      "cell_type": "code",
      "execution_count": 21,
      "metadata": {
        "colab": {
          "base_uri": "https://localhost:8080/"
        },
        "id": "QvGAPOl4wgso",
        "outputId": "2ec26e00-576c-464e-8060-8241ed0a8630"
      },
      "outputs": [
        {
          "name": "stdout",
          "output_type": "stream",
          "text": [
            "Max value: 27.0, max index: 175\n"
          ]
        }
      ],
      "source": [
        "sales = data[:, 3]\n",
        "max_value = np.max(sales)\n",
        "max_index = np.where(sales == max_value)\n",
        "print(f\"Max value: {max_value}, max index: {max_index[0][0]}\")"
      ]
    },
    {
      "cell_type": "markdown",
      "metadata": {
        "id": "s7EKdx5Gyjnp"
      },
      "source": [
        "### 2. Get average value on TV"
      ]
    },
    {
      "cell_type": "code",
      "execution_count": 22,
      "metadata": {
        "colab": {
          "base_uri": "https://localhost:8080/"
        },
        "id": "v8TePvctx_Jx",
        "outputId": "9fe141e6-2c3b-4409-8a69-3259f4ecd94c"
      },
      "outputs": [
        {
          "name": "stdout",
          "output_type": "stream",
          "text": [
            "147.0425\n"
          ]
        }
      ],
      "source": [
        "tv = data[:, 0]\n",
        "tv_average = np.mean(tv)\n",
        "print(tv_average)"
      ]
    },
    {
      "cell_type": "markdown",
      "metadata": {
        "id": "UjVE-mULyuUO"
      },
      "source": [
        "### 3. Count values on Sales >= 20"
      ]
    },
    {
      "cell_type": "code",
      "execution_count": 27,
      "metadata": {
        "colab": {
          "base_uri": "https://localhost:8080/"
        },
        "id": "urW7igwvxyoI",
        "outputId": "844a2d18-8d30-450b-90ae-17068a35da9c"
      },
      "outputs": [
        {
          "name": "stdout",
          "output_type": "stream",
          "text": [
            "40\n"
          ]
        }
      ],
      "source": [
        "count = np.where(sales>=20)\n",
        "print(len(count[0]))"
      ]
    },
    {
      "cell_type": "markdown",
      "metadata": {
        "id": "98TJCMV1zKy-"
      },
      "source": [
        "### 4. Get average value on Radio with Sales >= 15"
      ]
    },
    {
      "cell_type": "code",
      "execution_count": 31,
      "metadata": {
        "colab": {
          "base_uri": "https://localhost:8080/"
        },
        "id": "SFWm9pm6y_lI",
        "outputId": "6470e895-0e3f-4812-9668-c16f8c109709"
      },
      "outputs": [
        {
          "name": "stdout",
          "output_type": "stream",
          "text": [
            "26.22293577981651\n"
          ]
        }
      ],
      "source": [
        "# Sales >= 15\n",
        "radio_con = data[np.where(sales>=15)][:, 1]\n",
        "# Get the average\n",
        "print(np.mean(radio_con))"
      ]
    },
    {
      "cell_type": "markdown",
      "metadata": {
        "id": "rTJoPa45zzWV"
      },
      "source": [
        "### 4. Get sum of Sales rows with Newspaper >= average value of Newspaper"
      ]
    },
    {
      "cell_type": "code",
      "execution_count": 32,
      "metadata": {
        "colab": {
          "base_uri": "https://localhost:8080/"
        },
        "id": "b_Qd23Om0NQ5",
        "outputId": "f6603b3d-3271-4d06-e2ce-247c5ff52215"
      },
      "outputs": [
        {
          "name": "stdout",
          "output_type": "stream",
          "text": [
            "1405.1\n"
          ]
        }
      ],
      "source": [
        "# Newspaper >= average value of Newspaper\n",
        "newspaper = data[:, 2]\n",
        "newspaper_con = data[np.where(newspaper>=np.mean(newspaper))]\n",
        "\n",
        "# Get sum\n",
        "print(np.sum(newspaper_con[:, 3]))"
      ]
    },
    {
      "cell_type": "markdown",
      "metadata": {
        "id": "yk3WgP7A1W5-"
      },
      "source": [
        "### 5. Create scores list with 3 values Good, Average và Bad. If sales value > average sales => Good, < average sale => Bad and = average sale => Average. Show scores[7:10]"
      ]
    },
    {
      "cell_type": "code",
      "execution_count": 35,
      "metadata": {
        "id": "pddFNU0w22_8"
      },
      "outputs": [],
      "source": [
        "# Get sales average\n",
        "average_sales = np.mean(sales)"
      ]
    },
    {
      "cell_type": "code",
      "execution_count": 43,
      "metadata": {
        "id": "0aZUqoGC2ars"
      },
      "outputs": [],
      "source": [
        "# Create scores list\n",
        "scores = np.where(sales[7:10]>average_sales, \"Good\", (np.where(sales[7:10]==average_sales, \"Average\", \"Bad\")))"
      ]
    },
    {
      "cell_type": "code",
      "execution_count": 45,
      "metadata": {
        "colab": {
          "base_uri": "https://localhost:8080/"
        },
        "id": "TlVwZXNY4z6N",
        "outputId": "54d70749-a26a-4aab-afcc-a70b95932a79"
      },
      "outputs": [
        {
          "name": "stdout",
          "output_type": "stream",
          "text": [
            "['Bad' 'Bad' 'Good']\n"
          ]
        }
      ],
      "source": [
        "print(scores)"
      ]
    },
    {
      "cell_type": "markdown",
      "metadata": {
        "id": "csahHA2W-XU3"
      },
      "source": [
        "### 6. A is the nearest value of average sales. Create scores list with 3 values Good, Average và Bad. If sales value > A => Good, < A => Bad and = A => Average. Show scores[7:10]"
      ]
    },
    {
      "cell_type": "code",
      "execution_count": 55,
      "metadata": {
        "id": "eRXcKgpX-mZ2"
      },
      "outputs": [],
      "source": [
        "# Get A\n",
        "a_value = sales[np.where(np.abs(sales-average_sales)==np.min(np.abs(sales-average_sales)))][0]"
      ]
    },
    {
      "cell_type": "code",
      "execution_count": 56,
      "metadata": {
        "id": "uvllQUWg__aW"
      },
      "outputs": [],
      "source": [
        "# Create scores list\n",
        "scores = np.where(sales[7:10]>a_value, \"Good\", (np.where(sales[7:10]==a_value, \"Average\", \"Bad\")))"
      ]
    },
    {
      "cell_type": "code",
      "execution_count": 57,
      "metadata": {
        "colab": {
          "base_uri": "https://localhost:8080/"
        },
        "id": "ddpkzgvzAJ68",
        "outputId": "970cf9fa-4359-4204-b8fc-ed30c4512876"
      },
      "outputs": [
        {
          "name": "stdout",
          "output_type": "stream",
          "text": [
            "['Bad' 'Bad' 'Good']\n"
          ]
        }
      ],
      "source": [
        "print(scores)"
      ]
    }
  ],
  "metadata": {
    "colab": {
      "provenance": []
    },
    "kernelspec": {
      "display_name": "Python 3",
      "name": "python3"
    },
    "language_info": {
      "name": "python"
    }
  },
  "nbformat": 4,
  "nbformat_minor": 0
}
