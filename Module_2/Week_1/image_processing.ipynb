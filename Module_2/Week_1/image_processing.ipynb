{
  "cells": [
    {
      "cell_type": "markdown",
      "metadata": {
        "id": "5l0_3NfVqdmr"
      },
      "source": [
        "## Process the images"
      ]
    },
    {
      "cell_type": "markdown",
      "metadata": {
        "id": "hkvc7kx2s_T8"
      },
      "source": [
        "Color images have 3 channels: R-Red, G-Green, B-Blue.\n",
        "- Lightness: Get average of max and min values: (max(R,G,B) + min(R,G,B))/2\n",
        "- Average: Get average of all channels: (R+G+B)/3\n",
        "- Luminosity: Multiple proper number with each channel: 0.21xR + 0.72*xG + 0.07xB"
      ]
    },
    {
      "cell_type": "code",
      "execution_count": 4,
      "metadata": {
        "id": "rZydtYTbrtw1"
      },
      "outputs": [],
      "source": [
        "# Add some libraries\n",
        "import numpy as np\n",
        "import matplotlib.image as mpimg"
      ]
    },
    {
      "cell_type": "code",
      "execution_count": null,
      "metadata": {
        "id": "iaCb1XqgtsYo"
      },
      "outputs": [],
      "source": [
        "# Download image\n",
        "!gdown 1i9dqan21DjQoG5Q_VEvm0LrVwAlXD0vB"
      ]
    },
    {
      "cell_type": "code",
      "execution_count": null,
      "metadata": {
        "id": "pfhhaXmFtugU"
      },
      "outputs": [],
      "source": [
        "# Read the image\n",
        "img = mpimg.imread(\"/content/dog.jpeg\")"
      ]
    },
    {
      "cell_type": "markdown",
      "metadata": {
        "id": "Ui-YDzfBrCFv"
      },
      "source": [
        "### 1. Comple the code: Color to Grayscale images with Lightness"
      ]
    },
    {
      "cell_type": "code",
      "execution_count": 7,
      "metadata": {
        "id": "IFvOPq4SsCXl"
      },
      "outputs": [],
      "source": [
        "gray_img_01 = (np.max(img, axis=2)+np.min(img, axis=2))/2"
      ]
    },
    {
      "cell_type": "code",
      "execution_count": 8,
      "metadata": {
        "colab": {
          "base_uri": "https://localhost:8080/"
        },
        "id": "r6Oj9wHrsAcG",
        "outputId": "ef1cba20-5dff-46e7-c441-776324154bfa"
      },
      "outputs": [
        {
          "data": {
            "text/plain": [
              "102.5"
            ]
          },
          "execution_count": 8,
          "metadata": {},
          "output_type": "execute_result"
        }
      ],
      "source": [
        "gray_img_01[0, 0]"
      ]
    },
    {
      "cell_type": "markdown",
      "metadata": {
        "id": "fPYUQXsSs5pT"
      },
      "source": [
        "### 2. Comple the code: Color to Grayscale images with Average"
      ]
    },
    {
      "cell_type": "code",
      "execution_count": 18,
      "metadata": {
        "id": "h9nwZtmBtwNg"
      },
      "outputs": [],
      "source": [
        "gray_img_02 = np.mean(img, axis=2)"
      ]
    },
    {
      "cell_type": "code",
      "execution_count": 19,
      "metadata": {
        "colab": {
          "base_uri": "https://localhost:8080/"
        },
        "id": "rRG_-9GFtyjO",
        "outputId": "f3b2a773-fae8-4f3f-f32a-a06419796d63"
      },
      "outputs": [
        {
          "data": {
            "text/plain": [
              "107.66666666666667"
            ]
          },
          "execution_count": 19,
          "metadata": {},
          "output_type": "execute_result"
        }
      ],
      "source": [
        "gray_img_02[0, 0]"
      ]
    },
    {
      "cell_type": "markdown",
      "metadata": {
        "id": "sm5EtNXdu0n_"
      },
      "source": [
        "### 3. Comple the code: Color to Grayscale images with Luminosity"
      ]
    },
    {
      "cell_type": "code",
      "execution_count": 24,
      "metadata": {
        "id": "9mO51LZouwb6"
      },
      "outputs": [],
      "source": [
        "gray_img_03 = img[:,:,0]*0.21+img[:,:,1]*0.72+img[:,:,2]*0.07"
      ]
    },
    {
      "cell_type": "code",
      "execution_count": 25,
      "metadata": {
        "colab": {
          "base_uri": "https://localhost:8080/"
        },
        "id": "AivntTfFvoQ-",
        "outputId": "3ccb50a5-852c-4969-e7ca-2741f862d7b1"
      },
      "outputs": [
        {
          "data": {
            "text/plain": [
              "126.22999999999999"
            ]
          },
          "execution_count": 25,
          "metadata": {},
          "output_type": "execute_result"
        }
      ],
      "source": [
        "gray_img_03[0, 0]"
      ]
    }
  ],
  "metadata": {
    "colab": {
      "provenance": []
    },
    "kernelspec": {
      "display_name": "Python 3",
      "name": "python3"
    },
    "language_info": {
      "name": "python"
    }
  },
  "nbformat": 4,
  "nbformat_minor": 0
}
